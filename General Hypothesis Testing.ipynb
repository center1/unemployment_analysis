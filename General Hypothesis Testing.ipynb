{
 "cells": [
  {
   "cell_type": "code",
   "execution_count": null,
   "metadata": {},
   "outputs": [],
   "source": [
    "import matplotlib\n",
    "import pandas\n",
    "import scipy.stats\n",
    "\n",
    "%matplotlib inline"
   ]
  },
  {
   "cell_type": "markdown",
   "metadata": {},
   "source": [
    "# Preparation"
   ]
  },
  {
   "cell_type": "markdown",
   "metadata": {},
   "source": [
    "### Load Data"
   ]
  },
  {
   "cell_type": "code",
   "execution_count": null,
   "metadata": {},
   "outputs": [],
   "source": [
    "source_data = pandas.read_csv('unemployment_salary_and_uninsurance.csv')"
   ]
  },
  {
   "cell_type": "code",
   "execution_count": null,
   "metadata": {},
   "outputs": [],
   "source": [
    "source_data['unemploymentRateRel'] = source_data['unemploymentRate2020'] - source_data['unemploymentRate2019']"
   ]
  },
  {
   "cell_type": "code",
   "execution_count": null,
   "metadata": {},
   "outputs": [],
   "source": [
    "source_data['titleShort'] = source_data['title'].apply(lambda x: x.replace(' occupations', ''))"
   ]
  },
  {
   "cell_type": "code",
   "execution_count": null,
   "metadata": {},
   "outputs": [],
   "source": [
    "source_data = source_data.sort_values('unemploymentRateRel')"
   ]
  },
  {
   "cell_type": "markdown",
   "metadata": {},
   "source": [
    "### Checks"
   ]
  },
  {
   "cell_type": "code",
   "execution_count": null,
   "metadata": {},
   "outputs": [],
   "source": [
    "assert source_data[source_data['unemploymentRateRel'] < 0].shape[0] == 0"
   ]
  },
  {
   "cell_type": "markdown",
   "metadata": {},
   "source": [
    "### Utility Functions"
   ]
  },
  {
   "cell_type": "code",
   "execution_count": null,
   "metadata": {},
   "outputs": [],
   "source": [
    "FONT_FAMILY = 'Lato'"
   ]
  },
  {
   "cell_type": "code",
   "execution_count": null,
   "metadata": {},
   "outputs": [],
   "source": [
    "def style_graph(ax, title, x_label, y_label, x_range, y_range):\n",
    "    \"\"\"Style a matplotlib graph.\n",
    "    \n",
    "    Args:\n",
    "        ax: The matplob axes to manipulate.\n",
    "        title: The string title to have appear at the top of the graphic.\n",
    "        x_label: The label for the hoizontal axis.\n",
    "        y_label: The label for the vertical axis.\n",
    "        x_range: Two element tuple or list with the minimum and maximum values for the horizontal axis.\n",
    "        y_range: Two element tuple or list with the minimum and maximum values for the vertical axis.\n",
    "    \"\"\"\n",
    "    ax.spines['top'].set_color('#ffffff')\n",
    "    ax.spines['right'].set_color('#ffffff')\n",
    "    ax.spines['bottom'].set_color('#ffffff')\n",
    "    ax.spines['left'].set_color('#ffffff')\n",
    "\n",
    "    ax.set_xlabel(x_label, fontname=FONT_FAMILY, fontweight='medium', fontsize=12)\n",
    "    ax.set_ylabel(y_label, fontname=FONT_FAMILY, fontweight='medium', fontsize=12)\n",
    "\n",
    "    ax.xaxis.label.set_color('#555555')\n",
    "    ax.yaxis.label.set_color('#555555')\n",
    "\n",
    "    ax.tick_params(axis='x', colors='#555555')\n",
    "    ax.tick_params(axis='y', colors='#555555')\n",
    "\n",
    "    if x_range:\n",
    "        ax.set_xlim(x_range)\n",
    "    \n",
    "    if y_range:\n",
    "        ax.set_ylim(y_range)\n",
    "\n",
    "    if title:\n",
    "        ax.set_title(title, fontname=FONT_FAMILY, fontweight='medium', fontsize=13, color=\"#505050\")\n",
    "        ax.title.set_position([.5, 1.05])\n",
    "\n",
    "    for tick in ax.get_xticklabels():\n",
    "        tick.set_fontname(FONT_FAMILY)\n",
    "        tick.set_fontweight('medium')\n",
    "\n",
    "    for tick in ax.get_yticklabels():\n",
    "        tick.set_fontweight('medium')"
   ]
  },
  {
   "cell_type": "markdown",
   "metadata": {},
   "source": [
    "# EDA"
   ]
  },
  {
   "cell_type": "code",
   "execution_count": null,
   "metadata": {},
   "outputs": [],
   "source": [
    "ax = source_data.plot.barh(\n",
    "    x='titleShort',\n",
    "    y=[\n",
    "        'unemploymentRateRel',\n",
    "        'unemploymentRate2019'\n",
    "    ],\n",
    "    figsize=(10, 8),\n",
    "    stacked=True,\n",
    "    colors=['#1f78b4', '#a6cee3'] * 21\n",
    ")\n",
    "\n",
    "texts = ax.legend().get_texts()\n",
    "texts[0].set_text('Increase in Unemployment from April 2019')\n",
    "texts[1].set_text('Unemployment in April 2019')\n",
    "texts[0].set_color('#707070')\n",
    "texts[1].set_color('#707070')\n",
    "\n",
    "for p in ax.patches:\n",
    "    label_val = str(int(round(p.get_width())))\n",
    "    if p.get_x() == 0:\n",
    "        if round(p.get_width()) == 37:\n",
    "            label_val += ' increase'\n",
    "        ax.annotate(label_val, (p.get_x() + 0.1, p.get_y() + 0.05), color='#ffffff')\n",
    "    else:\n",
    "        end_x = p.get_x() + p.get_width() - 0.7\n",
    "        if p.get_width() > 10:\n",
    "            anchor_x = end_x - 0.5\n",
    "        else:\n",
    "            anchor_x = end_x\n",
    "        ax.annotate(label_val, (anchor_x, p.get_y() + 0.05), color='#ffffff')\n",
    "        \n",
    "        total_x = round(p.get_x() + p.get_width())\n",
    "        total_amount_label = str(int(total_x)) + '%'\n",
    "        if total_x == 42:\n",
    "            total_amount_label += ' in 04/20'\n",
    "        ax.annotate(total_amount_label, (end_x + 1, p.get_y() + 0.05), color='#505050')\n",
    "\n",
    "style_graph(\n",
    "    ax,\n",
    "    'April 2020 Unemployment',\n",
    "    'Unemployment Rate April 2020',\n",
    "    'Occupation',\n",
    "    [0, 45],\n",
    "    None\n",
    ")"
   ]
  },
  {
   "cell_type": "markdown",
   "metadata": {},
   "source": [
    "# Tests"
   ]
  },
  {
   "cell_type": "markdown",
   "metadata": {},
   "source": [
    "## Hypothesis 1: Unemployment and Median Salary are Correlated"
   ]
  },
  {
   "cell_type": "code",
   "execution_count": null,
   "metadata": {},
   "outputs": [],
   "source": [
    "ax = source_data.plot.scatter(\n",
    "    x='unemploymentRateRel',\n",
    "    y='annualSalaryMedianUsd',\n",
    "    colors=['#1f78b4'] * 21,\n",
    "    figsize=(9,5)\n",
    ")\n",
    "\n",
    "style_graph(\n",
    "    ax,\n",
    "    'Lower Salaries in Occupations of High Unemployment',\n",
    "    'Increase in Unemployment from April 2019 to April 2020',\n",
    "    'Annual Median Wage Estimates (May 2019)',\n",
    "    [0, 40],\n",
    "    [0, 100000]\n",
    ")"
   ]
  },
  {
   "cell_type": "code",
   "execution_count": null,
   "metadata": {},
   "outputs": [],
   "source": [
    "p_value = scipy.stats.spearmanr(source_data['unemploymentRate2020'], source_data['annualSalaryMedianUsd']).pvalue\n",
    "if p_value < 0.05 / 2:\n",
    "    print('Hypothesis accepted')"
   ]
  },
  {
   "cell_type": "markdown",
   "metadata": {},
   "source": [
    "## Hypothesis 2: Unemployment and Uninsured are Correlated"
   ]
  },
  {
   "cell_type": "code",
   "execution_count": null,
   "metadata": {},
   "outputs": [],
   "source": [
    "ax = source_data.plot.scatter(x='unemploymentRateRel', y='uninsuranceRate', colors=['#1f78b4'] * 21, figsize=(9,5))\n",
    "\n",
    "style_graph(\n",
    "    ax,\n",
    "    'Higher Uninsured Rate in Occupations of High Unemployment',\n",
    "    'Increase in Unemployment from April 2019 to April 2020',\n",
    "    '% Uninsured (2018 ACS 5 Year)',\n",
    "    [0, 40],\n",
    "    [0, 35]\n",
    ")"
   ]
  },
  {
   "cell_type": "code",
   "execution_count": null,
   "metadata": {},
   "outputs": [],
   "source": [
    "p_value = scipy.stats.spearmanr(source_data['unemploymentRate2020'], source_data['uninsuranceRate']).pvalue\n",
    "if p_value < 0.05 / 2:\n",
    "    print('Hypothesis Accepted')"
   ]
  }
 ],
 "metadata": {
  "kernelspec": {
   "display_name": "Python 3",
   "language": "python",
   "name": "python3"
  },
  "language_info": {
   "codemirror_mode": {
    "name": "ipython",
    "version": 3
   },
   "file_extension": ".py",
   "mimetype": "text/x-python",
   "name": "python",
   "nbconvert_exporter": "python",
   "pygments_lexer": "ipython3",
   "version": "3.7.1"
  }
 },
 "nbformat": 4,
 "nbformat_minor": 2
}
