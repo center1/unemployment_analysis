{
 "cells": [
  {
   "cell_type": "code",
   "execution_count": null,
   "metadata": {},
   "outputs": [],
   "source": [
    "import matplotlib\n",
    "import pandas\n",
    "import scipy.stats\n",
    "\n",
    "%matplotlib inline"
   ]
  },
  {
   "cell_type": "markdown",
   "metadata": {},
   "source": [
    "# Prepare"
   ]
  },
  {
   "cell_type": "markdown",
   "metadata": {},
   "source": [
    "### Load Data"
   ]
  },
  {
   "cell_type": "code",
   "execution_count": null,
   "metadata": {},
   "outputs": [],
   "source": [
    "source = pandas.read_csv('medicaid_expansion.csv')"
   ]
  },
  {
   "cell_type": "code",
   "execution_count": null,
   "metadata": {},
   "outputs": [],
   "source": [
    "source = source.sort_values('Percent Eligible', ascending=True)"
   ]
  },
  {
   "cell_type": "markdown",
   "metadata": {},
   "source": [
    "### Utility Functions"
   ]
  },
  {
   "cell_type": "code",
   "execution_count": null,
   "metadata": {},
   "outputs": [],
   "source": [
    "FONT_FAMILY = 'Lato'"
   ]
  },
  {
   "cell_type": "code",
   "execution_count": null,
   "metadata": {},
   "outputs": [],
   "source": [
    "def style_graph(ax, title, x_label, y_label, x_range, y_range):\n",
    "    \"\"\"Style a matplotlib graph.\n",
    "    \n",
    "    Args:\n",
    "        ax: The matplob axes to manipulate.\n",
    "        title: The string title to have appear at the top of the graphic.\n",
    "        x_label: The label for the hoizontal axis.\n",
    "        y_label: The label for the vertical axis.\n",
    "        x_range: Two element tuple or list with the minimum and maximum values for the horizontal axis.\n",
    "        y_range: Two element tuple or list with the minimum and maximum values for the vertical axis.\n",
    "    \"\"\"\n",
    "    ax.spines['top'].set_color('#ffffff')\n",
    "    ax.spines['right'].set_color('#ffffff')\n",
    "    ax.spines['bottom'].set_color('#ffffff')\n",
    "    ax.spines['left'].set_color('#ffffff')\n",
    "\n",
    "    ax.set_xlabel(x_label, fontname=FONT_FAMILY, fontweight='medium', fontsize=12)\n",
    "    ax.set_ylabel(y_label, fontname=FONT_FAMILY, fontweight='medium', fontsize=12)\n",
    "\n",
    "    ax.xaxis.label.set_color('#555555')\n",
    "    ax.yaxis.label.set_color('#555555')\n",
    "\n",
    "    ax.tick_params(axis='x', colors='#555555')\n",
    "    ax.tick_params(axis='y', colors='#555555')\n",
    "\n",
    "    if x_range:\n",
    "        ax.set_xlim(x_range)\n",
    "    \n",
    "    if y_range:\n",
    "        ax.set_ylim(y_range)\n",
    "\n",
    "    if title:\n",
    "        ax.set_title(title, fontname=FONT_FAMILY, fontweight='medium', fontsize=13, color=\"#505050\")\n",
    "        ax.title.set_position([.5, 1.05])\n",
    "\n",
    "    for tick in ax.get_xticklabels():\n",
    "        tick.set_fontname(FONT_FAMILY)\n",
    "        tick.set_fontweight('medium')\n",
    "\n",
    "    for tick in ax.get_yticklabels():\n",
    "        tick.set_fontweight('medium')"
   ]
  },
  {
   "cell_type": "markdown",
   "metadata": {},
   "source": [
    "# Tests"
   ]
  },
  {
   "cell_type": "markdown",
   "metadata": {},
   "source": [
    "### Hypothesis 1: The newly unemployed in states with expanded medicaid will qualify for medicaid at higher rates"
   ]
  },
  {
   "cell_type": "code",
   "execution_count": null,
   "metadata": {},
   "outputs": [],
   "source": [
    "ax = source.plot.barh(\n",
    "    x='State',\n",
    "    y=[\n",
    "        'With Expansion',\n",
    "        'Without Expansion'\n",
    "    ],\n",
    "    figsize=(10, 13),\n",
    "    stacked=True,\n",
    "    colors=['#1f78b4', '#a6cee3'] * 21\n",
    ")\n",
    "\n",
    "texts = ax.legend().get_texts()\n",
    "texts[0].set_text('Expanded Medicaid')\n",
    "texts[1].set_text('Not Yet Impemented Medicaid Expansion')\n",
    "texts[0].set_color('#707070')\n",
    "texts[1].set_color('#707070')\n",
    "\n",
    "style_graph(\n",
    "    ax,\n",
    "    'Percent of Those Losing Employer Provided Insurance Qualifying for Medicaid',\n",
    "    'Percent Qualifying for Medicaid',\n",
    "    'State',\n",
    "    [0, 100],\n",
    "    None\n",
    ")"
   ]
  },
  {
   "cell_type": "code",
   "execution_count": null,
   "metadata": {},
   "outputs": [],
   "source": [
    "with_expansion = source[source['Had Expansion'] == 1]\n",
    "without_expansion = source[source['Had Expansion'] == 0]"
   ]
  },
  {
   "cell_type": "code",
   "execution_count": null,
   "metadata": {},
   "outputs": [],
   "source": [
    "p_value = scipy.stats.mannwhitneyu(with_expansion['Percent Eligible'], without_expansion['Percent Eligible'])[1]"
   ]
  },
  {
   "cell_type": "code",
   "execution_count": null,
   "metadata": {},
   "outputs": [],
   "source": [
    "if p_value < 0.05:\n",
    "    print('Hypothesis accepted.')"
   ]
  }
 ],
 "metadata": {
  "kernelspec": {
   "display_name": "Python 3",
   "language": "python",
   "name": "python3"
  },
  "language_info": {
   "codemirror_mode": {
    "name": "ipython",
    "version": 3
   },
   "file_extension": ".py",
   "mimetype": "text/x-python",
   "name": "python",
   "nbconvert_exporter": "python",
   "pygments_lexer": "ipython3",
   "version": "3.7.1"
  }
 },
 "nbformat": 4,
 "nbformat_minor": 2
}
